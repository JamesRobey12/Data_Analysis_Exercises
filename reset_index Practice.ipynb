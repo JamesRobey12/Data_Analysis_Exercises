{
 "cells": [
  {
   "cell_type": "markdown",
   "id": "661b3cf8-17e0-483d-b3f7-a58245971e36",
   "metadata": {},
   "source": [
    "# reset_index() Practice"
   ]
  },
  {
   "cell_type": "markdown",
   "id": "a5f1820d",
   "metadata": {},
   "source": [
    "Hi, I've made this exercise that primarily focuses on the reset_index() function but also does cover .drop() in the first question. Use the file however you wish, and feel free to create your own df using another dataset, instead of the one I have provided below. \n",
    "\n",
    "When trying to remember some of these functions, I have found that doing something, much like this exercise, makes you remember the functions and their key parameters far more than trying to learn them via flashcards. It can be completely quickly and repeated in spaced intervals to make reset_index() and its application stick in your memory, which is handy whenever working on a data problem where it's required. \n",
    "\n",
    "I'm sharing the file to save you the time of making your own, and I hope it is helpful! \n",
    "\n",
    "If you'd like to connect, my LinkedIn is www.linkedin.com/in/james-robey12\n",
    "\n",
    "Happy coding! "
   ]
  },
  {
   "cell_type": "markdown",
   "id": "782f4548",
   "metadata": {},
   "source": [
    "### Imports"
   ]
  },
  {
   "cell_type": "code",
   "execution_count": 2,
   "id": "a9b6823a-7fad-422f-95f3-521164c6776b",
   "metadata": {},
   "outputs": [],
   "source": [
    "import pandas as pd \n",
    "import numpy as np"
   ]
  },
  {
   "cell_type": "markdown",
   "id": "fdf32307",
   "metadata": {},
   "source": [
    "### Need help with the functions? \n",
    "\n",
    "Run these help cells below in jupyiter notebooks, or look them up on the internet for lists of their parameters!"
   ]
  },
  {
   "cell_type": "code",
   "execution_count": 5,
   "id": "d6eb03cf",
   "metadata": {},
   "outputs": [],
   "source": [
    "# Remove #below for help.\n",
    "# pd.DataFrame.reset_index?"
   ]
  },
  {
   "cell_type": "code",
   "execution_count": 6,
   "id": "7eaafbae",
   "metadata": {},
   "outputs": [],
   "source": [
    "# Remove #below for help.\n",
    "# pd.DataFrame.drop?"
   ]
  },
  {
   "cell_type": "markdown",
   "id": "7afd54c4",
   "metadata": {},
   "source": [
    "### Get the data "
   ]
  },
  {
   "cell_type": "code",
   "execution_count": null,
   "id": "ad847575-5e21-4ffd-8767-9df564fe254b",
   "metadata": {},
   "outputs": [],
   "source": [
    "df = pd.read_excel(\"Piklopedia_Pikmin4.xlsx\")"
   ]
  },
  {
   "cell_type": "code",
   "execution_count": null,
   "id": "2805a06b-699f-4519-9c05-27791e4b7e7d",
   "metadata": {},
   "outputs": [],
   "source": [
    "df"
   ]
  },
  {
   "cell_type": "markdown",
   "id": "f8fafff4-7ecc-47fa-b66d-f5080f6fcef6",
   "metadata": {},
   "source": [
    "### Question 1: Delete any number of rows from df using .drop(). This will create a difference between the index and # column. "
   ]
  },
  {
   "cell_type": "code",
   "execution_count": null,
   "id": "26eee198-30df-4937-837f-fb1205956c94",
   "metadata": {},
   "outputs": [],
   "source": [
    "#Interesting this is how to do a slice of indexes whe dropping.\n"
   ]
  },
  {
   "cell_type": "code",
   "execution_count": null,
   "id": "8242f0da-0db4-4f30-b2d3-d79f0b4c384c",
   "metadata": {},
   "outputs": [],
   "source": []
  },
  {
   "cell_type": "markdown",
   "id": "829b7a06-fd53-4d80-ac1b-18361fa3fcb8",
   "metadata": {},
   "source": [
    "### Question 2: Reset the index of df and store the result in a new variable called df2"
   ]
  },
  {
   "cell_type": "code",
   "execution_count": null,
   "id": "b0038d1f-3d42-492d-922f-209da546339c",
   "metadata": {},
   "outputs": [],
   "source": []
  },
  {
   "cell_type": "code",
   "execution_count": null,
   "id": "f0fda303-add7-4400-905f-29bf95a0afc6",
   "metadata": {},
   "outputs": [],
   "source": []
  },
  {
   "cell_type": "markdown",
   "id": "348a6b27-a8fe-44d8-a96f-435404147b33",
   "metadata": {},
   "source": [
    "### Question 3: Reset the index again of the original df, but this time store the result in a new variable called df3, and make sure the original index is dropped inside the same reset_index() function."
   ]
  },
  {
   "cell_type": "code",
   "execution_count": null,
   "id": "194fd2a1-2db6-4af4-ba6f-461a86004179",
   "metadata": {},
   "outputs": [],
   "source": []
  },
  {
   "cell_type": "code",
   "execution_count": null,
   "id": "54c6b09d-c4d6-4544-8ca5-4b1cd5730ee0",
   "metadata": {},
   "outputs": [],
   "source": []
  },
  {
   "cell_type": "markdown",
   "id": "138eee6b-8117-4b1d-a238-fabb0b4532bc",
   "metadata": {},
   "source": [
    "### Question 4: Edit the original df by first copying it, and storing the copy in a new variable called df4, and then reset df4's index without putting it into a new variable. "
   ]
  },
  {
   "cell_type": "code",
   "execution_count": null,
   "id": "6a14898a-f208-47e0-b0a1-4c0d8ace065e",
   "metadata": {},
   "outputs": [],
   "source": [
    "df4 = df.copy()"
   ]
  },
  {
   "cell_type": "code",
   "execution_count": null,
   "id": "902a02a3-3e6b-451e-ad8b-55a8e6d5b3f8",
   "metadata": {},
   "outputs": [],
   "source": []
  },
  {
   "cell_type": "code",
   "execution_count": null,
   "id": "bca39506-2e5d-4b2f-b14e-ec1523e6fc8e",
   "metadata": {},
   "outputs": [],
   "source": []
  },
  {
   "cell_type": "markdown",
   "id": "65d5253f-4535-40aa-a1f2-dc5ea615c930",
   "metadata": {},
   "source": [
    "### Question 5: Edit the original df by first copying it, and storing the copy in a new variable called df4, then reset df5's index without storing it in a new variable and make sure the original is dropped within the same reset_index() function.  "
   ]
  },
  {
   "cell_type": "code",
   "execution_count": null,
   "id": "bac263f8-1903-4a76-a417-750624758360",
   "metadata": {},
   "outputs": [],
   "source": [
    "df5 = df.copy()"
   ]
  },
  {
   "cell_type": "code",
   "execution_count": null,
   "id": "0134f08b-e4f5-4ed6-b0a2-8116ad6d158b",
   "metadata": {},
   "outputs": [],
   "source": []
  },
  {
   "cell_type": "code",
   "execution_count": null,
   "id": "ec696a69-2688-4c1e-a311-404fbfb817ea",
   "metadata": {},
   "outputs": [],
   "source": []
  },
  {
   "cell_type": "code",
   "execution_count": null,
   "id": "38f0da7b-44c3-4cac-8704-ac9bc73ba428",
   "metadata": {},
   "outputs": [],
   "source": []
  }
 ],
 "metadata": {
  "kernelspec": {
   "display_name": "Python 3 (ipykernel)",
   "language": "python",
   "name": "python3"
  },
  "language_info": {
   "codemirror_mode": {
    "name": "ipython",
    "version": 3
   },
   "file_extension": ".py",
   "mimetype": "text/x-python",
   "name": "python",
   "nbconvert_exporter": "python",
   "pygments_lexer": "ipython3",
   "version": "3.11.5"
  }
 },
 "nbformat": 4,
 "nbformat_minor": 5
}
